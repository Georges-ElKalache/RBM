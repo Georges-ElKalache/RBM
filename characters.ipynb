{
 "cells": [
  {
   "cell_type": "code",
   "execution_count": 1,
   "id": "initial_id",
   "metadata": {
    "ExecuteTime": {
     "end_time": "2025-01-01T22:34:50.244433Z",
     "start_time": "2025-01-01T22:34:50.241116Z"
    },
    "collapsed": true
   },
   "outputs": [],
   "source": [
    "from RBM import RBM\n",
    "from load_dataset import lire_alpha_digit\n",
    "import matplotlib.pyplot as plt\n",
    "import numpy as np"
   ]
  },
  {
   "cell_type": "code",
   "execution_count": 2,
   "id": "f0879da7249531de",
   "metadata": {
    "ExecuteTime": {
     "end_time": "2025-01-01T16:46:39.488457Z",
     "start_time": "2025-01-01T16:46:39.468836Z"
    }
   },
   "outputs": [],
   "source": [
    "# Updated character sets\n",
    "V1 = ['A']\n",
    "V2 = ['A', 'B']\n",
    "V4 = ['A', 'B', 'C', '1']\n",
    "V10 = ['1', '2', '3', '4', '5', '6', '7', '8', '9', '0']\n",
    "V26 = ['A', 'B', 'C', 'D', 'E', 'F', 'G', 'H', 'I', 'J', 'K', 'L', 'M', 'N', 'O', 'P', 'Q', 'R', 'S', 'T', 'U', 'V', 'W', 'X', 'Y', 'Z']\n",
    "V36 = ['A', 'B', 'C', 'D', 'E', 'F', 'G', 'H', 'I', 'J', 'K', 'L', 'M', 'N', 'O', 'P', 'Q', 'R', 'S', 'T', 'U', 'V', 'W', 'X', 'Y', 'Z', '0', '1', '2', '3', '4', '5', '6', '7', '8', '9']\n",
    "\n",
    "# Load data for each character set\n",
    "X_1 = lire_alpha_digit(V1)\n",
    "X_2 = lire_alpha_digit(V2)\n",
    "X_4 = lire_alpha_digit(V4)\n",
    "X_10 = lire_alpha_digit(V10)\n",
    "X_26 = lire_alpha_digit(V26)\n",
    "X_36 = lire_alpha_digit(V36)"
   ]
  },
  {
   "cell_type": "code",
   "execution_count": 3,
   "id": "7af0f63d59bb786b",
   "metadata": {
    "ExecuteTime": {
     "end_time": "2025-01-01T16:46:39.520635Z",
     "start_time": "2025-01-01T16:46:39.517042Z"
    }
   },
   "outputs": [],
   "source": [
    "p1, p2, p4, p10, p26, p36 = X_1.shape[1], X_2.shape[1], X_4.shape[1], X_10.shape[1], X_26.shape[1], X_36.shape[1]\n",
    "lr = 0.01\n",
    "batch_size = 10\n",
    "epochs = 1000\n",
    "q = 300"
   ]
  },
  {
   "cell_type": "code",
   "execution_count": 4,
   "id": "ac9d6f0b4d24daf1",
   "metadata": {
    "ExecuteTime": {
     "end_time": "2025-01-01T16:46:39.577568Z",
     "start_time": "2025-01-01T16:46:39.569684Z"
    }
   },
   "outputs": [],
   "source": [
    "history_list = []\n",
    "rbm_list = []"
   ]
  },
  {
   "cell_type": "code",
   "execution_count": null,
   "id": "11ae363aafc08dcd",
   "metadata": {
    "ExecuteTime": {
     "end_time": "2025-01-01T16:54:15.776780Z",
     "start_time": "2025-01-01T16:46:39.627634Z"
    }
   },
   "outputs": [],
   "source": [
    "for i, (X, p) in enumerate(zip([X_1, X_2, X_4, X_10, X_26, X_36], [p1, p2, p4, p10, p26, p36])):\n",
    "    rbm = RBM(p, q)\n",
    "    erreurs = rbm.train(X, nb_epochs=epochs, taille_batch=batch_size, epsilon=lr)\n",
    "    history_list.append(erreurs)\n",
    "    rbm_list.append(rbm)"
   ]
  },
  {
   "cell_type": "code",
   "execution_count": 6,
   "id": "b1a399c10063d56e",
   "metadata": {
    "ExecuteTime": {
     "end_time": "2025-01-01T16:54:15.795726Z",
     "start_time": "2025-01-01T16:54:15.793659Z"
    }
   },
   "outputs": [],
   "source": [
    "X_list = [X_1, X_2, X_4, X_10, X_26, X_36]"
   ]
  },
  {
   "cell_type": "code",
   "execution_count": null,
   "id": "5e657a509dde5aee",
   "metadata": {
    "ExecuteTime": {
     "end_time": "2025-01-01T17:45:37.326356Z",
     "start_time": "2025-01-01T17:45:37.249898Z"
    }
   },
   "outputs": [],
   "source": [
    "plt.figure(figsize=(7, 4))\n",
    "for i, history in enumerate(history_list):\n",
    "    plt.plot(history, label=f'characters={len(V1) if i == 0 else len(V2) if i == 1 else len(V4) if i == 2 else len(V10) if i == 3 else len(V26) if i == 4 else len(V36)}')\n",
    "plt.title('Reconstruction Error vs Epoch for Different Number of Characters')\n",
    "plt.xlabel('Epoch')\n",
    "plt.ylabel('Reconstruction Error')\n",
    "plt.legend()\n",
    "plt.grid(True)\n",
    "plt.show()"
   ]
  },
  {
   "cell_type": "code",
   "execution_count": null,
   "id": "ac80c3a77f5d1aec",
   "metadata": {
    "ExecuteTime": {
     "end_time": "2025-01-01T17:47:17.151172Z",
     "start_time": "2025-01-01T17:47:17.147459Z"
    }
   },
   "outputs": [],
   "source": [
    "for item in history_list:\n",
    "    print(item[-1])"
   ]
  },
  {
   "cell_type": "code",
   "execution_count": null,
   "id": "9f6576ae3c310d27",
   "metadata": {
    "ExecuteTime": {
     "end_time": "2025-01-01T18:05:17.409589Z",
     "start_time": "2025-01-01T18:05:17.333521Z"
    }
   },
   "outputs": [],
   "source": [
    "plt.figure(figsize=(7, 4))\n",
    "for i, history in enumerate(history_list):\n",
    "    plt.plot(history, label=f'characters={len(V1) if i == 0 else len(V2) if i == 1 else len(V4) if i == 2 else len(V10) if i == 3 else len(V26) if i == 4 else len(V36)}')\n",
    "plt.title('Reconstruction Error vs Epoch for Different Number of Characters')\n",
    "plt.xlabel('Epochs')\n",
    "plt.ylabel('Reconstruction Error')\n",
    "plt.legend()\n",
    "plt.grid(True)\n",
    "plt.show()"
   ]
  },
  {
   "cell_type": "code",
   "execution_count": null,
   "id": "21e104f354169929",
   "metadata": {
    "ExecuteTime": {
     "end_time": "2025-01-01T18:59:31.310555Z",
     "start_time": "2025-01-01T18:57:20.247071Z"
    }
   },
   "outputs": [],
   "source": [
    "import numpy as np\n",
    "from scipy.spatial.distance import jensenshannon\n",
    "\n",
    "def js_divergence(data1, data2):\n",
    "    data1_hist, _ = np.histogram(data1, bins=100, density=True)\n",
    "    data2_hist, _ = np.histogram(data2, bins=100, density=True)\n",
    "    js_div = jensenshannon(data1_hist, data2_hist)\n",
    "    return js_div\n",
    "\n",
    "js_divergences = []\n",
    "for i, rbm in enumerate(rbm_list):\n",
    "    generated_data = rbm.generer_image(nb_images=len(X_list[i]))\n",
    "    js_div = js_divergence(X_list[i], generated_data)\n",
    "    js_divergences.append(js_div)\n",
    "    print(f\"Model {i+1} JS Divergence: {js_div}\")"
   ]
  },
  {
   "cell_type": "code",
   "execution_count": null,
   "id": "c743119ab9e1b7d1",
   "metadata": {
    "ExecuteTime": {
     "end_time": "2025-01-01T19:45:30.562649Z",
     "start_time": "2025-01-01T19:45:26.021194Z"
    }
   },
   "outputs": [],
   "source": [
    "import matplotlib.pyplot as plt\n",
    "\n",
    "all_images = []\n",
    "for rbm in rbm_list:\n",
    "    images = rbm.generer_image(nb_images=10)\n",
    "    all_images.extend(images)\n",
    "\n",
    "def plot_images_grid(images, rows, cols, titles, figsize=(11, 9)):\n",
    "    fig, axes = plt.subplots(rows, cols, figsize=figsize)\n",
    "    for i, ax in enumerate(axes.flat):\n",
    "        ax.imshow(images[i].reshape(20, 16), cmap='gray')\n",
    "        ax.axis('off')\n",
    "        if i % cols == 0:\n",
    "            ax.set_title(titles[i // cols], fontsize=12, loc='left')\n",
    "    plt.tight_layout()\n",
    "    plt.show()\n",
    "\n",
    "titles = [f'Model {i+1}' for i in range(len(rbm_list))]\n",
    "plot_images_grid(all_images, rows=6, cols=10, titles=titles)"
   ]
  }
 ],
 "metadata": {
  "kernelspec": {
   "display_name": "Python 3",
   "language": "python",
   "name": "python3"
  },
  "language_info": {
   "codemirror_mode": {
    "name": "ipython",
    "version": 3
   },
   "file_extension": ".py",
   "mimetype": "text/x-python",
   "name": "python",
   "nbconvert_exporter": "python",
   "pygments_lexer": "ipython3",
   "version": "3.11.0"
  }
 },
 "nbformat": 4,
 "nbformat_minor": 5
}
